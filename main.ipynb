{
 "cells": [
  {
   "cell_type": "code",
   "execution_count": 6,
   "id": "875288e0",
   "metadata": {},
   "outputs": [],
   "source": [
    "import pandas as pd\n",
    "import torch\n",
    "from transformers import PatchTSTForPrediction, PatchTSTConfig\n",
    "from sklearn.preprocessing import StandardScaler\n",
    "import numpy as np\n",
    "\n",
    "# --- Opciones de visualización de pandas (para una salida más limpia) ---\n",
    "pd.set_option('display.max_columns', None)\n",
    "pd.set_option('display.width', 1000)\n",
    "pd.set_option('display.float_format', '{:.2f}'.format)\n"
   ]
  },
  {
   "cell_type": "markdown",
   "id": "711cda68",
   "metadata": {},
   "source": [
    "### # 1. Cargar el dataset de ejemplo"
   ]
  },
  {
   "cell_type": "code",
   "execution_count": 7,
   "id": "154440e8",
   "metadata": {},
   "outputs": [
    {
     "name": "stdout",
     "output_type": "stream",
     "text": [
      "--- Dataset cargado ---\n",
      "                 Fecha  Temperatura  Humedad  Velocidad del Viento  Precipitacion\n",
      "0  2025-01-01 00:00:00        28.50       85                  5.20           0.00\n",
      "1  2025-01-01 01:00:00        28.10       86                  6.00           0.00\n",
      "2  2025-01-01 02:00:00        27.80       87                  5.50           0.00\n",
      "3  2025-01-01 03:00:00        27.50       88                  5.80           0.00\n",
      "4  2025-01-01 04:00:00        27.20       89                  6.10           0.00\n"
     ]
    }
   ],
   "source": [
    "\n",
    "\n",
    "try:\n",
    "    df = pd.read_csv('clima_prueba.csv')\n",
    "    print(\"--- Dataset cargado ---\")\n",
    "    print(df.head())\n",
    "except FileNotFoundError:\n",
    "    print(\"Error: El archivo 'clima_prueba.csv' no se encontró. Asegúrate de que esté en la misma carpeta.\")\n",
    "    exit()"
   ]
  },
  {
   "cell_type": "markdown",
   "id": "c2b525cd",
   "metadata": {},
   "source": [
    "### 2. Preprocesar y normalizar los datos"
   ]
  },
  {
   "cell_type": "code",
   "execution_count": 8,
   "id": "db7b5b87",
   "metadata": {},
   "outputs": [],
   "source": [
    "\n",
    "\n",
    "time_index = pd.to_datetime(df['Fecha'])\n",
    "data_values = df[['Temperatura', 'Humedad', 'Velocidad del Viento', 'Precipitacion']].values.astype(np.float32)\n",
    "\n",
    "scaler = StandardScaler()\n",
    "scaled_data = scaler.fit_transform(data_values)"
   ]
  },
  {
   "cell_type": "markdown",
   "id": "68d083b0",
   "metadata": {},
   "source": [
    "### 3. Dividir el dataset para entrenamiento e inferencia"
   ]
  },
  {
   "cell_type": "code",
   "execution_count": 9,
   "id": "f6abc0b6",
   "metadata": {},
   "outputs": [],
   "source": [
    "\n",
    "past_values = scaled_data[:20]\n",
    "future_values = scaled_data[20:]\n",
    "\n",
    "past_values_tensor = torch.tensor(past_values).unsqueeze(0)\n",
    "future_values_tensor = torch.tensor(future_values).unsqueeze(0)"
   ]
  },
  {
   "cell_type": "markdown",
   "id": "56af59e3",
   "metadata": {},
   "source": [
    "### 4. Cargar el modelo PatchTST"
   ]
  },
  {
   "cell_type": "code",
   "execution_count": 10,
   "id": "250cb584",
   "metadata": {},
   "outputs": [],
   "source": [
    "\n",
    "config = PatchTSTConfig(\n",
    "    num_input_channels=4,\n",
    "    prediction_length=4,\n",
    "    context_length=20,\n",
    "    patch_length=4,\n",
    "    patch_stride=2,\n",
    "    num_time_features=0,\n",
    "    output_range=None,\n",
    "    normalization_config=None\n",
    ")\n",
    "model = PatchTSTForPrediction(config)\n"
   ]
  },
  {
   "cell_type": "markdown",
   "id": "816c617f",
   "metadata": {},
   "source": [
    "### 5. Entrenar (o realizar un 'forward pass' de ejemplo)"
   ]
  },
  {
   "cell_type": "code",
   "execution_count": 11,
   "id": "84151638",
   "metadata": {},
   "outputs": [
    {
     "name": "stdout",
     "output_type": "stream",
     "text": [
      "\n",
      "--- Paso de entrenamiento (con 'future_values') ---\n",
      "Pérdida de entrenamiento: 0.4797\n"
     ]
    }
   ],
   "source": [
    "\n",
    "print(\"\\n--- Paso de entrenamiento (con 'future_values') ---\")\n",
    "outputs_train = model(\n",
    "    past_values=past_values_tensor,\n",
    "    future_values=future_values_tensor\n",
    ")\n",
    "loss = outputs_train.loss\n",
    "print(f\"Pérdida de entrenamiento: {loss.item():.4f}\")"
   ]
  },
  {
   "cell_type": "markdown",
   "id": "d778fa7d",
   "metadata": {},
   "source": [
    "### 6. Realizar una predicción ('inferencia')"
   ]
  },
  {
   "cell_type": "code",
   "execution_count": 12,
   "id": "906ccee5",
   "metadata": {},
   "outputs": [
    {
     "name": "stdout",
     "output_type": "stream",
     "text": [
      "\n",
      "--- Paso de inferencia (solo con 'past_values') ---\n"
     ]
    }
   ],
   "source": [
    "\n",
    "print(\"\\n--- Paso de inferencia (solo con 'past_values') ---\")\n",
    "outputs_inference = model(\n",
    "    past_values=past_values_tensor\n",
    ")\n",
    "prediction_outputs = outputs_inference.prediction_outputs[0].detach().numpy()\n",
    "predicted_values = scaler.inverse_transform(prediction_outputs)\n"
   ]
  },
  {
   "cell_type": "markdown",
   "id": "9fcfa729",
   "metadata": {},
   "source": [
    "### 7. Visualización mejorada de los resultados"
   ]
  },
  {
   "cell_type": "code",
   "execution_count": 13,
   "id": "4fcc9185",
   "metadata": {},
   "outputs": [
    {
     "name": "stdout",
     "output_type": "stream",
     "text": [
      "\n",
      "--- Comparación de Valores Reales vs. Predichos ---\n",
      "                Reales                                                                  Predichos                                                       \n",
      "                 Fecha Temperatura Humedad Velocidad del Viento Precipitacion               Fecha Temperatura Humedad Velocidad del Viento Precipitacion\n",
      "0  2025-01-01 20:00:00       30.50      75                 7.50          0.00 2025-01-02 00:00:00       31.94   72.42                 9.04          0.00\n",
      "1  2025-01-01 21:00:00       29.20      80                 6.20          0.00 2025-01-02 01:00:00       31.67   71.84                 8.83         -0.00\n",
      "2  2025-01-01 22:00:00       28.80      82                 5.50          0.00 2025-01-02 02:00:00       31.79   71.95                 8.93          0.00\n",
      "3  2025-01-01 23:00:00       28.60      84                 5.00          0.00 2025-01-02 03:00:00       31.75   71.70                 8.89          0.00\n",
      "\n",
      "Predicciones del modelo mostradas arriba, con valores reales a la izquierda y predichos a la derecha.\n",
      "La diferencia entre ambas es la precisión del modelo en este ejemplo de un solo paso.\n"
     ]
    }
   ],
   "source": [
    "\n",
    "columnas = ['Temperatura', 'Humedad', 'Velocidad del Viento', 'Precipitacion']\n",
    "df_reales = df.iloc[20:].reset_index(drop=True)\n",
    "\n",
    "df_predicciones = pd.DataFrame(data=predicted_values, columns=columnas)\n",
    "last_date = pd.to_datetime(df['Fecha'].iloc[-1])\n",
    "start_date_pred = last_date + pd.Timedelta(hours=1)\n",
    "fechas_prediccion = pd.date_range(start=start_date_pred, periods=4, freq='h') # Corregido a 'h'\n",
    "\n",
    "df_predicciones['Fecha'] = fechas_prediccion\n",
    "df_predicciones = df_predicciones[['Fecha'] + columnas]\n",
    "\n",
    "# Juntar y mostrar los DataFrames para una fácil comparación\n",
    "print(\"\\n--- Comparación de Valores Reales vs. Predichos ---\")\n",
    "\n",
    "comparacion = pd.concat([df_reales, df_predicciones], axis=1, keys=['Reales', 'Predichos'])\n",
    "print(comparacion)\n",
    "\n",
    "print(\"\\nPredicciones del modelo mostradas arriba, con valores reales a la izquierda y predichos a la derecha.\")\n",
    "print(\"La diferencia entre ambas es la precisión del modelo en este ejemplo de un solo paso.\")"
   ]
  }
 ],
 "metadata": {
  "kernelspec": {
   "display_name": "env",
   "language": "python",
   "name": "python3"
  },
  "language_info": {
   "codemirror_mode": {
    "name": "ipython",
    "version": 3
   },
   "file_extension": ".py",
   "mimetype": "text/x-python",
   "name": "python",
   "nbconvert_exporter": "python",
   "pygments_lexer": "ipython3",
   "version": "3.12.10"
  }
 },
 "nbformat": 4,
 "nbformat_minor": 5
}
